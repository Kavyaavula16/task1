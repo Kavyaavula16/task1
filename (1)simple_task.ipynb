{
  "nbformat": 4,
  "nbformat_minor": 0,
  "metadata": {
    "colab": {
      "provenance": [],
      "authorship_tag": "ABX9TyO9MszablVXVyBGjB2VpFvX",
      "include_colab_link": true
    },
    "kernelspec": {
      "name": "python3",
      "display_name": "Python 3"
    },
    "language_info": {
      "name": "python"
    }
  },
  "cells": [
    {
      "cell_type": "markdown",
      "metadata": {
        "id": "view-in-github",
        "colab_type": "text"
      },
      "source": [
        "<a href=\"https://colab.research.google.com/github/Kavyaavula16/task1/blob/main/(1)simple_task.ipynb\" target=\"_parent\"><img src=\"https://colab.research.google.com/assets/colab-badge.svg\" alt=\"Open In Colab\"/></a>"
      ]
    },
    {
      "cell_type": "code",
      "execution_count": 1,
      "metadata": {
        "id": "ngeNJ4jOYpSd"
      },
      "outputs": [],
      "source": [
        "import pandas as pd\n",
        "from sklearn.feature_extraction.text import CountVectorizer\n",
        "from sklearn.naive_bayes import MultinomialNB\n",
        "from sklearn.pipeline import make_pipeline\n",
        "import random"
      ]
    },
    {
      "cell_type": "code",
      "source": [
        "# Initialize an empty task list\n",
        "tasks = pd.DataFrame(columns=['description', 'priority'])\n",
        "\n",
        "# Load pre-existing tasks from a CSV file (if any)\n",
        "try:\n",
        "    tasks = pd.read_csv('tasks.csv')\n",
        "except FileNotFoundError:\n",
        "    pass"
      ],
      "metadata": {
        "id": "8fWuRdZdpSVy"
      },
      "execution_count": 2,
      "outputs": []
    },
    {
      "cell_type": "code",
      "source": [
        "# Function to save tasks to a CSV file\n",
        "def save_tasks():\n",
        "    tasks.to_csv('tasks.csv', index=False)\n",
        "\n",
        "# Train the task priority classifier\n",
        "vectorizer = CountVectorizer()\n",
        "clf = MultinomialNB()\n",
        "model = make_pipeline(vectorizer, clf)\n",
        "#model.fit(tasks['description'], tasks['priority'])"
      ],
      "metadata": {
        "id": "JgHjjWEUpSYq"
      },
      "execution_count": 11,
      "outputs": []
    },
    {
      "cell_type": "code",
      "source": [
        "# Function to add a task to the list\n",
        "def add_task(description, priority):\n",
        "    global tasks  # Declare tasks as a global variable\n",
        "    new_task = pd.DataFrame({'description': [description], 'priority': [priority]})\n",
        "    tasks = pd.concat([tasks, new_task], ignore_index=True)\n",
        "    save_tasks()"
      ],
      "metadata": {
        "id": "mELN8OMQpSbO"
      },
      "execution_count": 6,
      "outputs": []
    },
    {
      "cell_type": "code",
      "source": [
        "# Function to remove a task by description\n",
        "def remove_task(description):\n",
        "    tasks = tasks[tasks['description'] != description]\n",
        "    save_tasks()"
      ],
      "metadata": {
        "id": "H-Jwrfz1pSd1"
      },
      "execution_count": 7,
      "outputs": []
    },
    {
      "cell_type": "code",
      "source": [
        "# Function to list all tasks\n",
        "def list_tasks():\n",
        "    if tasks.empty:\n",
        "        print(\"No tasks available.\")\n",
        "    else:\n",
        "        print(tasks)"
      ],
      "metadata": {
        "id": "sQ6090RVpSgE"
      },
      "execution_count": 8,
      "outputs": []
    },
    {
      "cell_type": "code",
      "source": [
        "# Function to recommend a task based on machine learning\n",
        "def recommend_task():\n",
        "    if not tasks.empty:\n",
        "        # Get high-priority tasks\n",
        "        high_priority_tasks = tasks[tasks['priority'] == 'High']\n",
        "\n",
        "        if not high_priority_tasks.empty:\n",
        "            # Choose a random high-priority task\n",
        "            random_task = random.choice(high_priority_tasks['description'])\n",
        "            print(f\"Recommended task: {random_task} - Priority: High\")\n",
        "        else:\n",
        "            print(\"No high-priority tasks available for recommendation.\")\n",
        "    else:\n",
        "        print(\"No tasks available for recommendations.\")"
      ],
      "metadata": {
        "id": "uctlGG4jpSis"
      },
      "execution_count": 9,
      "outputs": []
    },
    {
      "cell_type": "code",
      "source": [
        "# Main menu\n",
        "while True:\n",
        "    print(\"\\nTask Management App\")\n",
        "    print(\"1. Add Task\")\n",
        "    print(\"2. Remove Task\")\n",
        "    print(\"3. List Tasks\")\n",
        "    print(\"4. Recommend Task\")\n",
        "    print(\"5. Exit\")\n",
        "\n",
        "    choice = input(\"Select an option: \")\n",
        "\n",
        "    if choice == \"1\":\n",
        "        description = input(\"Enter task description: \")\n",
        "        priority = input(\"Enter task priority (Low/Medium/High): \").capitalize()\n",
        "        add_task(description, priority)\n",
        "        print(\"Task added successfully.\")\n",
        "\n",
        "    elif choice == \"2\":\n",
        "        description = input(\"Enter task description to remove: \")\n",
        "        remove_task(description)\n",
        "        print(\"Task removed successfully.\")\n",
        "\n",
        "    elif choice == \"3\":\n",
        "        list_tasks()\n",
        "\n",
        "    elif choice == \"4\":\n",
        "        recommend_task()\n",
        "\n",
        "    elif choice == \"5\":\n",
        "        print(\"Goodbye!\")\n",
        "        break\n",
        "\n",
        "    else:\n",
        "        print(\"Invalid option. Please select a valid option.\")"
      ],
      "metadata": {
        "colab": {
          "base_uri": "https://localhost:8080/"
        },
        "id": "V8washz3pSlV",
        "outputId": "9414276e-3e44-491d-cf10-4645c45c714f"
      },
      "execution_count": 10,
      "outputs": [
        {
          "output_type": "stream",
          "name": "stdout",
          "text": [
            "\n",
            "Task Management App\n",
            "1. Add Task\n",
            "2. Remove Task\n",
            "3. List Tasks\n",
            "4. Recommend Task\n",
            "5. Exit\n",
            "Select an option: 1\n",
            "Enter task description: t1\n",
            "Enter task priority (Low/Medium/High): low\n",
            "Task added successfully.\n",
            "\n",
            "Task Management App\n",
            "1. Add Task\n",
            "2. Remove Task\n",
            "3. List Tasks\n",
            "4. Recommend Task\n",
            "5. Exit\n",
            "Select an option: 1\n",
            "Enter task description: t2\n",
            "Enter task priority (Low/Medium/High): medium\n",
            "Task added successfully.\n",
            "\n",
            "Task Management App\n",
            "1. Add Task\n",
            "2. Remove Task\n",
            "3. List Tasks\n",
            "4. Recommend Task\n",
            "5. Exit\n",
            "Select an option: 5\n",
            "Goodbye!\n"
          ]
        }
      ]
    },
    {
      "cell_type": "code",
      "source": [],
      "metadata": {
        "id": "coN0fk-QpSox"
      },
      "execution_count": null,
      "outputs": []
    }
  ]
}